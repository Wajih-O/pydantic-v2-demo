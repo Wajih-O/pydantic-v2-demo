{
 "cells": [
  {
   "cell_type": "code",
   "execution_count": 1,
   "metadata": {},
   "outputs": [],
   "source": [
    "from pydantic import BaseModel\n",
    "from fluent_builder.fluent_setter import fluent_setter\n",
    "\n",
    "class MyModel(BaseModel):\n",
    "    att1: str\n",
    "    att2: str = None  # Optional attribute\n",
    "\n",
    "    @fluent_setter('att1')\n",
    "    def withAtt1(self, value: str) -> 'MyModel':\n",
    "        return self\n",
    "\n",
    "    @fluent_setter('att2')\n",
    "    def withAtt2(self, value: str) -> 'MyModel':\n",
    "        return self\n"
   ]
  },
  {
   "cell_type": "code",
   "execution_count": 3,
   "metadata": {},
   "outputs": [],
   "source": [
    "test = MyModel(att1=\"test\").withAtt1(\"not-really\").withAtt2(\"hello\")"
   ]
  },
  {
   "cell_type": "code",
   "execution_count": 4,
   "metadata": {},
   "outputs": [
    {
     "data": {
      "text/plain": [
       "<bound method BaseModel.model_dump_json of MyModel(att1='not-really', att2='hello')>"
      ]
     },
     "execution_count": 4,
     "metadata": {},
     "output_type": "execute_result"
    }
   ],
   "source": [
    "test.model_dump_json"
   ]
  },
  {
   "cell_type": "markdown",
   "metadata": {},
   "source": [
    "## Generic Fluent builder"
   ]
  },
  {
   "cell_type": "code",
   "execution_count": 8,
   "metadata": {},
   "outputs": [],
   "source": [
    "from fluent_builder.generic_fluent_builder import  FluentBaseModel\n",
    "\n",
    "class Parameters(FluentBaseModel):\n",
    "    dt: float\n",
    "    soc_start_percent: float | None = None\n",
    "    etp_daily_cycle_limit: float | None = None\n",
    "\n",
    "Parameters.generate_fluent_setters()"
   ]
  },
  {
   "cell_type": "code",
   "execution_count": 11,
   "metadata": {},
   "outputs": [],
   "source": [
    "p = Parameters(dt=.5).with_soc_start_percent(50.0)"
   ]
  },
  {
   "cell_type": "code",
   "execution_count": 12,
   "metadata": {},
   "outputs": [
    {
     "data": {
      "text/plain": [
       "Parameters(dt=0.5, soc_start_percent=50.0, etp_daily_cycle_limit=20000)"
      ]
     },
     "execution_count": 12,
     "metadata": {},
     "output_type": "execute_result"
    }
   ],
   "source": [
    "p.with_etp_daily_cycle_limit(20000)"
   ]
  },
  {
   "cell_type": "code",
   "execution_count": null,
   "metadata": {},
   "outputs": [],
   "source": []
  }
 ],
 "metadata": {
  "celltoolbar": "Slideshow",
  "kernelspec": {
   "display_name": "Python 3 (ipykernel)",
   "language": "python",
   "name": "python3"
  },
  "language_info": {
   "codemirror_mode": {
    "name": "ipython",
    "version": 3
   },
   "file_extension": ".py",
   "mimetype": "text/x-python",
   "name": "python",
   "nbconvert_exporter": "python",
   "pygments_lexer": "ipython3",
   "version": "3.11.9"
  }
 },
 "nbformat": 4,
 "nbformat_minor": 4
}
