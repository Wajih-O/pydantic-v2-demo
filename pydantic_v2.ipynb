{
 "cells": [
  {
   "cell_type": "markdown",
   "metadata": {},
   "source": [
    "# Pydantic V2 demo\n",
    "\n",
    "This notebook explores and demo the features and claims announced in the v2 plan -> https://docs.pydantic.dev/latest/blog/pydantic-v2/\n",
    "from a Pydantic v2(.2) perspective"
   ]
  },
  {
   "cell_type": "code",
   "execution_count": 1,
   "metadata": {},
   "outputs": [],
   "source": [
    "from pydantic import BaseModel, ValidationError, Field\n",
    "from typing import Self\n",
    "import pytest\n"
   ]
  },
  {
   "cell_type": "code",
   "execution_count": 2,
   "metadata": {},
   "outputs": [
    {
     "name": "stdout",
     "output_type": "stream",
     "text": [
      "bump-pydantic==0.6.0\n",
      "pydantic==2.2.0\n",
      "pydantic_core==2.6.0\n"
     ]
    }
   ],
   "source": [
    "! pip freeze | grep pydantic"
   ]
  },
  {
   "cell_type": "markdown",
   "metadata": {},
   "source": [
    "## V2 gained in performance"
   ]
  },
  {
   "cell_type": "markdown",
   "metadata": {},
   "source": [
    "\n",
    "Using pyo3/rust underneath:\n",
    "\n",
    "- Gain in performance (order of magnitude 10x, 5x to 50 x)\n",
    "- Multithreading\n",
    "- Reusing rust libraries\n",
    "- More explicit error handling (within rust)\n"
   ]
  },
  {
   "cell_type": "markdown",
   "metadata": {},
   "source": [
    "## Namespace clean-up\n",
    "\n",
    "All methods on models will start with model_, fields' names will not be allowed to start with \"model\" (aliases can be used if required).\n",
    "\n",
    " - avoid confusing gotchas when field names clash with methods on a model\n",
    " - make it safer to add more methods to a model without risking new clashes\n",
    "\n",
    "```python\n",
    "\n",
    "class BaseModel:\n",
    "    model_fields: List[FieldInfo]\n",
    "    \"\"\"previously `__fields__`, although the format will change a lot\"\"\"\n",
    "    @classmethod\n",
    "    def model_validate(cls, data: Any, *, context=None) -> Self:  # \n",
    "\n",
    "\n",
    "        \"\"\"\n",
    "        previously `parse_obj()`, validate data\n",
    "        \"\"\"\n",
    "    @classmethod\n",
    "    def model_validate_json(\n",
    "        cls,\n",
    "        data: str | bytes | bytearray,\n",
    "        *,\n",
    "        context=None\n",
    "    ) -> Self:\n",
    "        \"\"\"\n",
    "        previously `parse_raw(..., content_type='application/json')`\n",
    "        validate data from JSON\n",
    "        \"\"\"\n",
    "    @classmethod\n",
    "    def model_is_instance(cls, data: Any, *, context=None) -> bool: # \n",
    "\n",
    "\n",
    "        \"\"\"\n",
    "        new, check if data is value for the model\n",
    "        \"\"\"\n",
    "    @classmethod\n",
    "    def model_is_instance_json(\n",
    "        cls,\n",
    "        data: str | bytes | bytearray,\n",
    "        *,\n",
    "        context=None\n",
    "    ) -> bool:\n",
    "        \"\"\"\n",
    "        Same as `model_is_instance`, but from JSON\n",
    "        \"\"\"\n",
    "    def model_dump(\n",
    "        self,\n",
    "        include: ... = None,\n",
    "        exclude: ... = None,\n",
    "        by_alias: bool = False,\n",
    "        exclude_unset: bool = False,\n",
    "        exclude_defaults: bool = False,\n",
    "        exclude_none: bool = False,\n",
    "        mode: Literal['unchanged', 'dicts', 'json-compliant'] = 'unchanged',\n",
    "        converter: Callable[[Any], Any] | None = None\n",
    "    ) -> Any:\n",
    "        \"\"\"\n",
    "        previously `dict()`, as before\n",
    "        with new `mode` argument\n",
    "        \"\"\"\n",
    "    def model_dump_json(self, ...) -> str:\n",
    "        \"\"\"\n",
    "        previously `json()`, arguments as above\n",
    "        effectively equivalent to `json.dump(self.model_dump(..., mode='json'))`,\n",
    "        but more performant\n",
    "        \"\"\"\n",
    "    def model_json_schema(self, ...) -> dict[str, Any]:\n",
    "        \"\"\"\n",
    "        previously `schema()`, arguments roughly as before\n",
    "        JSON schema as a dict\n",
    "        \"\"\"\n",
    "    def model_update_forward_refs(self) -> None:\n",
    "        \"\"\"\n",
    "        previously `update_forward_refs()`, update forward references\n",
    "        \"\"\"\n",
    "    @classmethod\n",
    "    def model_construct(\n",
    "        self,\n",
    "        _fields_set: set[str] | None = None,\n",
    "        **values: Any\n",
    "    ) -> Self:\n",
    "        \"\"\"\n",
    "        previously `construct()`, arguments roughly as before\n",
    "        construct a model with no validation\n",
    "        \"\"\"\n",
    "    @classmethod\n",
    "    def model_customize_schema(cls, schema: dict[str, Any]) -> dict[str, Any]:\n",
    "        \"\"\"\n",
    "        new, way to customize validation,\n",
    "        e.g. if you wanted to alter how the model validates certain types,\n",
    "        or add validation for a specific type without custom types or\n",
    "        decorated validators\n",
    "        \"\"\"\n",
    "    class ModelConfig:\n",
    "        \"\"\"\n",
    "        previously `Config`, configuration class for models\n",
    "        \"\"\"\n",
    "\n",
    "``````"
   ]
  },
  {
   "cell_type": "markdown",
   "metadata": {
    "slideshow": {
     "slide_type": "slide"
    }
   },
   "source": [
    "##  Strict mode\n",
    "\n",
    "Where data is not coerced but rather an error is raised\n"
   ]
  },
  {
   "cell_type": "code",
   "execution_count": 3,
   "metadata": {
    "slideshow": {
     "slide_type": "subslide"
    }
   },
   "outputs": [],
   "source": [
    "class Energy(BaseModel):\n",
    "    value: int  # energy value in wh\n",
    "    def from_kwh(kwh: int) -> Self:\n",
    "        return Energy(value=kwh * 10e3)"
   ]
  },
  {
   "cell_type": "code",
   "execution_count": 4,
   "metadata": {},
   "outputs": [
    {
     "data": {
      "text/plain": [
       "Energy(value=3)"
      ]
     },
     "execution_count": 4,
     "metadata": {},
     "output_type": "execute_result"
    }
   ],
   "source": [
    "Energy(value=\"3\") # data coerced"
   ]
  },
  {
   "cell_type": "code",
   "execution_count": 5,
   "metadata": {},
   "outputs": [
    {
     "data": {
      "text/plain": [
       "Energy(value=100)"
      ]
     },
     "execution_count": 5,
     "metadata": {},
     "output_type": "execute_result"
    }
   ],
   "source": [
    "# testing model validate json\n",
    "Energy.model_validate_json(\"{\\\"value\\\": 100}\")"
   ]
  },
  {
   "cell_type": "code",
   "execution_count": 6,
   "metadata": {},
   "outputs": [],
   "source": [
    "class EnergyStrictMode(BaseModel):\n",
    "    model_config = dict(strict=True)\n",
    "    value: int  # energy value in wh\n",
    "    def from_kwh(kwh: int) -> Self:\n",
    "        return Energy(value=kwh * 10e3)"
   ]
  },
  {
   "cell_type": "code",
   "execution_count": 7,
   "metadata": {},
   "outputs": [],
   "source": [
    "with pytest.raises(ValidationError):\n",
    "    EnergyStrictMode(value=\"3\")"
   ]
  },
  {
   "cell_type": "markdown",
   "metadata": {},
   "source": [
    "## Formalized Conversion table\n",
    "\n",
    "(to link from the bog)\n",
    "\n",
    "It offers a solution for inconsistency around data conversion\n",
    "\n",
    "If the input data has a single and intuitive representation in the field's type and no data is lost during the conversion then the data will be converted; otherwise a  validation error is raised.\n",
    "\n",
    "string fields are the exception this rule:\n",
    " only **str, bytes and bytearray** are valid as inputs to string fields.\n"
   ]
  },
  {
   "cell_type": "code",
   "execution_count": 8,
   "metadata": {},
   "outputs": [
    {
     "data": {
      "text/plain": [
       "WithStringFields(s1='5', s2='test')"
      ]
     },
     "execution_count": 8,
     "metadata": {},
     "output_type": "execute_result"
    }
   ],
   "source": [
    "class WithStringFields(BaseModel):\n",
    "    s1: str\n",
    "    s2: str\n",
    "\n",
    "with pytest.raises(ValidationError):\n",
    "    WithStringFields(s1=5, s2=\"5\")\n",
    "\n",
    "WithStringFields(s1=\"5\", s2=b\"test\")\n"
   ]
  },
  {
   "cell_type": "markdown",
   "metadata": {},
   "source": [
    "## Builtin JSON support\n",
    "\n",
    "pydantic-core can parse json directly into a model or output type this both :\n",
    "\n",
    "- Improves performance\n",
    "- avoids issue with strictness\n",
    "\n",
    "Pydantic V2 will therefore allow some conversion when validating JSON directly, even in strict mode (e.g. ISO8601 string -> datetime, str -> bytes) even though this would not be allowed when validating a python object.\n",
    "\n",
    "In future direct validation of JSON will also allow (maybe in 2.1):\n",
    "- Parsing in a separate thread while starting validation in the main thread\n",
    "- Line numbers from JSON to be included in the validation errors\n"
   ]
  },
  {
   "cell_type": "code",
   "execution_count": 9,
   "metadata": {},
   "outputs": [],
   "source": [
    "# TODO example (let's get a tweet json and try to use it also for aliases)"
   ]
  },
  {
   "cell_type": "markdown",
   "metadata": {},
   "source": [
    "## Required vs nullable clean-up\n",
    "\n",
    "A Nullable (accepting None as a value) might be also required (where None explicitly required as a value)\n"
   ]
  },
  {
   "cell_type": "code",
   "execution_count": 10,
   "metadata": {},
   "outputs": [],
   "source": [
    "# Required vs nullable cleanup\n",
    "# https://pydantic-docs.helpmanual.io/usage/models/#required-vs-nullable-cleanup\n",
    "\n",
    "from typing import Optional\n",
    "from pydantic import BaseModel\n",
    "\n",
    "\n",
    "class Foo(BaseModel):\n",
    "    f1: str  # required, cannot be None\n",
    "    f2: str | None  # required, can be None - same as Optional[str] / Union[str, None]\n",
    "    f22: Optional[str]  # required, can be None (while in Pydantic v1 it is set to None)\n",
    "    f3: str | None = None  # not required, can be None\n",
    "    f4: str = 'Foobar'  # not required, but cannot be None\n",
    "\n"
   ]
  },
  {
   "cell_type": "code",
   "execution_count": 11,
   "metadata": {},
   "outputs": [],
   "source": [
    "Foo(f1=\"test\", f2=\"123\", f22=\"22\")\n",
    "Foo(f1=\"test\", f2=None, f22=\"22\")\n",
    "\n",
    "with pytest.raises(ValidationError):\n",
    "    Foo(f1=\"test\", f2=\"123\")\n"
   ]
  },
  {
   "cell_type": "markdown",
   "metadata": {},
   "source": [
    "\n",
    "## Validation without a model using TypeAdapter (formerly AnalyzedType)\n",
    "\n",
    "In pydantic V1 the core of all validation was a pydantic model this led to\n",
    " - Performance penalty\n",
    " - Extra complexity when the output data type was not  a model\n",
    "\n",
    "in V2 pydantic-core operates on a tree of validators with no model type required at the base of that tree. It can there fore validate a single string or datetime value a TypedDict or a Model equally easily"
   ]
  },
  {
   "cell_type": "code",
   "execution_count": 12,
   "metadata": {},
   "outputs": [
    {
     "name": "stdout",
     "output_type": "stream",
     "text": [
      "b'{\"center\":{\"x\":0.0,\"y\":0.0},\"radius\":1.0}'\n",
      "b'{\"center\":{\"x\":0.0,\"y\":0.0},\"side\":1.0}'\n",
      "b'{\"center\":{\"x\":0.0,\"y\":0.0},\"width\":1.0,\"height\":1.0}'\n"
     ]
    }
   ],
   "source": [
    "# TODO example (and move it later) in the presentation\n",
    "from dataclasses import dataclass\n",
    "from pydantic import model_validator, TypeAdapter  # TypeAdapter is the new name for AnalyzedType (https://github.com/pydantic/pydantic/issues/5580)\n",
    "\n",
    "@dataclass\n",
    "class Point:\n",
    "    x: float\n",
    "    y: float\n",
    "\n",
    "@dataclass\n",
    "class Circle:\n",
    "    center: Point\n",
    "    radius: float\n",
    "\n",
    "\n",
    "@dataclass\n",
    "class Square:\n",
    "    center: Point\n",
    "    side: float\n",
    "\n",
    "\n",
    "@dataclass\n",
    "class Rectangle:\n",
    "    center: Point\n",
    "    width: float\n",
    "    height: float\n",
    "\n",
    "    @model_validator(mode='before')\n",
    "    def check_width_and_height(cls, values):\n",
    "        if values.get('width') is None and values.get('height') is None:\n",
    "            raise ValueError('width or height must be set')\n",
    "        return values\n",
    "\n",
    "simple_forms = TypeAdapter(Circle|Square|Rectangle)\n",
    "\n",
    "for form in [{\"center\": {\"x\": 0, \"y\": 0}, \"radius\": 1},\n",
    "             {\"center\": {\"x\": 0, \"y\": 0}, \"side\": 1},\n",
    "             {\"center\": {\"x\": 0, \"y\": 0}, \"width\": 1, \"height\": 1}]:\n",
    "    print(simple_forms.dump_json(simple_forms.validate_python(form)))\n",
    "\n",
    "\n"
   ]
  },
  {
   "cell_type": "markdown",
   "metadata": {},
   "source": [
    "## Wrap validators\n",
    "\n",
    "logic before and after catching error, new error or defaults"
   ]
  },
  {
   "cell_type": "code",
   "execution_count": 13,
   "metadata": {},
   "outputs": [],
   "source": [
    "from pydantic import field_validator\n",
    "\n",
    "\n",
    "class Energy(BaseModel):\n",
    "    value: int  # energy value in wh\n",
    "\n",
    "    @field_validator(\"value\", mode=\"wrap\")\n",
    "    def validate_value(cls, value, handler):\n",
    "        if value == \"null\": # Before handler error catching !\n",
    "            return 0\n",
    "        try:\n",
    "            return handler(value)\n",
    "        except ValidationError:\n",
    "            return 0 # After handler catching error\n",
    "\n",
    "    def from_kwh(kwh: int) -> Self:\n",
    "        return Energy(value=kwh * 10e3)\n",
    "\n"
   ]
  },
  {
   "cell_type": "code",
   "execution_count": 14,
   "metadata": {},
   "outputs": [
    {
     "data": {
      "text/plain": [
       "Energy(value=0)"
      ]
     },
     "execution_count": 14,
     "metadata": {},
     "output_type": "execute_result"
    }
   ],
   "source": [
    "Energy(value=\"null\")"
   ]
  },
  {
   "cell_type": "markdown",
   "metadata": {},
   "source": [
    "## Validation using context"
   ]
  },
  {
   "cell_type": "code",
   "execution_count": 15,
   "metadata": {},
   "outputs": [],
   "source": [
    "import json\n",
    "from pydantic import field_validator\n",
    "\n",
    "class User(BaseModel):\n",
    "    id: int\n",
    "    name: str\n",
    "\n",
    "    @field_validator(\"id\")\n",
    "    def check_user_in_vip(cls, v, info):\n",
    "        if v not in info.context[\"vip_ids\"]:\n",
    "            raise ValueError(\"user is not in vip list\")\n",
    "        return v\n"
   ]
  },
  {
   "cell_type": "code",
   "execution_count": 16,
   "metadata": {},
   "outputs": [
    {
     "data": {
      "text/plain": [
       "User(id=1, name='John')"
      ]
     },
     "execution_count": 16,
     "metadata": {},
     "output_type": "execute_result"
    }
   ],
   "source": [
    "vip_ids = [1, 2, 3]\n",
    "User.model_validate_json(json.dumps({\"id\": 1, \"name\": \"John\"}),\n",
    "                        context = {\"vip_ids\": vip_ids})"
   ]
  },
  {
   "cell_type": "code",
   "execution_count": 17,
   "metadata": {},
   "outputs": [],
   "source": [
    "with pytest.raises(ValidationError):\n",
    "    User.model_validate_json(json.dumps({\"id\": 4, \"name\": \"John\"}),\n",
    "                        context = {\"vip_ids\": vip_ids})"
   ]
  },
  {
   "cell_type": "markdown",
   "metadata": {},
   "source": [
    "\n",
    "## More powerful alias(es)\n",
    "\n",
    "it can support alias paths as well as simple string aliases to flatten data as it's validated"
   ]
  },
  {
   "cell_type": "code",
   "execution_count": 18,
   "metadata": {},
   "outputs": [],
   "source": [
    "from pydantic import AliasPath\n",
    "\n",
    "class FooSimplePath(BaseModel):\n",
    "    bar: str = Field(validation_alias=AliasPath(\"al-bar\"))\n",
    "\n",
    "\n",
    "class FooLongerPath(BaseModel):\n",
    "    bar: str = Field(validation_alias=AliasPath('baz', 2, 'qux'))\n",
    "\n",
    "data = {\n",
    "    'al-bar': \"simple\",\n",
    "    'baz': [\n",
    "        {'qux': 'a'},\n",
    "        {'qux': 'b'},\n",
    "        {'qux': 'longer'},\n",
    "        {'qux': 'd'},\n",
    "    ]\n",
    "}\n",
    "\n",
    "assert FooSimplePath(**data).bar == \"simple\"\n",
    "assert FooLongerPath(**data).bar == \"longer\""
   ]
  },
  {
   "cell_type": "code",
   "execution_count": 19,
   "metadata": {},
   "outputs": [
    {
     "name": "stdout",
     "output_type": "stream",
     "text": [
      "{'id': '850006245121695744',\n",
      " 'text': '1/ Today we’re sharing our vision for the future of the Twitter API '\n",
      "         'platform!\\n'\n",
      "         'https://t.co/XweGngmxlP',\n",
      " 'url': 'https://cards.twitter.com/cards/18ce53wgo4h/3xo1c',\n",
      " 'user_id': 2244994945}\n"
     ]
    }
   ],
   "source": [
    "# Another (maybe better) alias example\n",
    "import json\n",
    "from pprint import pprint\n",
    "\n",
    "\n",
    "class TweetSimplified(BaseModel):\n",
    "    id : str = Field(alias='id_str')\n",
    "    text: str\n",
    "    user_id : int  = Field(validation_alias=AliasPath('user', 'id'))\n",
    "    url : str = Field(validation_alias=AliasPath(\"entities\", \"urls\", 0, \"unwound\", \"url\")) # todo: get the url list\n",
    "\n",
    "with open(\"tweet.json\", \"r\", encoding=\"utf-8\") as tweet_file:\n",
    "    tweet = TweetSimplified(**json.load(tweet_file))\n",
    "\n",
    "pprint(tweet.model_dump())"
   ]
  },
  {
   "cell_type": "markdown",
   "metadata": {},
   "source": [
    "## Recursive models\n",
    "\n",
    "model with a reference to it self."
   ]
  },
  {
   "cell_type": "code",
   "execution_count": 20,
   "metadata": {},
   "outputs": [],
   "source": [
    "class Energy(BaseModel):\n",
    "    offset: int = 0\n",
    "    slots: list[Energy] = Field(default_factory=list) # partial energy from different sources (contributors)\n",
    "    def from_kwh(kwh: int) -> Self:\n",
    "        return Energy(offset=kwh * 10e3)\n",
    "    def simplify(self):\n",
    "        offset_ = sum([slot.offset for slot in self.slots])\n",
    "        return Energy(offset=offset_ , slots=[])"
   ]
  },
  {
   "cell_type": "code",
   "execution_count": 21,
   "metadata": {},
   "outputs": [],
   "source": [
    "e = Energy(offset=0)\n",
    "e.slots.append(e) # circular reference in Pydantic v1 that would raise a recursion error.\n",
    "\n"
   ]
  },
  {
   "cell_type": "code",
   "execution_count": 22,
   "metadata": {},
   "outputs": [
    {
     "data": {
      "text/plain": [
       "{'offset': 0, 'slots': [{}]}"
      ]
     },
     "execution_count": 22,
     "metadata": {},
     "output_type": "execute_result"
    }
   ],
   "source": [
    "e.model_dump()"
   ]
  },
  {
   "cell_type": "code",
   "execution_count": 23,
   "metadata": {},
   "outputs": [
    {
     "data": {
      "text/plain": [
       "{'offset': 0, 'slots': []}"
      ]
     },
     "execution_count": 23,
     "metadata": {},
     "output_type": "execute_result"
    }
   ],
   "source": [
    "e.simplify().model_dump()"
   ]
  },
  {
   "cell_type": "markdown",
   "metadata": {},
   "source": [
    "# Generics"
   ]
  },
  {
   "cell_type": "code",
   "execution_count": 24,
   "metadata": {},
   "outputs": [],
   "source": [
    "\n",
    "from typing import Generic, TypeVar\n",
    "\n",
    "DataT = TypeVar('DataT')\n",
    "\n",
    "class Pile(BaseModel, Generic[DataT]):\n",
    "    data: list[DataT] = Field(default_factory=list)\n",
    "\n",
    "    def add(self, item: DataT):\n",
    "        self.data.append(item)\n",
    "\n",
    "    def pop(self) -> Optional[DataT]:\n",
    "        if len(self.data):\n",
    "            return self.data.pop()\n",
    "\n",
    "    def __repr__(self):\n",
    "        return f\"Pile({self.data})\"\n",
    "\n",
    "class EnergyContributions(Pile[Energy]):\n",
    "    def __repr__(self):\n",
    "        return f\"EnergyContributions({self.data})\"\n",
    "    def simplify(self) -> Self:\n",
    "        offset_ = 0\n",
    "        while energy:=self.pop():\n",
    "            offset_ += energy.offset\n",
    "        self.add(Energy(offset=offset_))\n",
    "        return self\n",
    "\n",
    "class PileOfInts(Pile[int]):\n",
    "    def __repr__(self):\n",
    "        return f\"PileOfInts({self.data})\"\n",
    "    def sum(self):\n",
    "        return sum(self.data)\n",
    "    def reduce(self):\n",
    "        sum =0\n",
    "        while self.pop():\n",
    "            sum += self.pop()\n",
    "        return self.add(sum)\n"
   ]
  },
  {
   "cell_type": "code",
   "execution_count": 25,
   "metadata": {},
   "outputs": [
    {
     "data": {
      "text/plain": [
       "{'data': [{'offset': 45, 'slots': []}]}"
      ]
     },
     "execution_count": 25,
     "metadata": {},
     "output_type": "execute_result"
    }
   ],
   "source": [
    "EnergyContributions(data = [Energy(offset=i) for i in range(10)]).simplify().model_dump()"
   ]
  },
  {
   "cell_type": "markdown",
   "metadata": {},
   "source": [
    "# Serialization"
   ]
  },
  {
   "cell_type": "markdown",
   "metadata": {},
   "source": [
    "in v1 it asks the value, in v2 it asks the type annotation to do the serialization\n",
    "it solves **\"do not ask the type\"** problem"
   ]
  },
  {
   "cell_type": "code",
   "execution_count": 26,
   "metadata": {},
   "outputs": [
    {
     "name": "stdout",
     "output_type": "stream",
     "text": [
      "{'account_id': 1, 'customer': {'id': 123, 'name': 'John'}}\n"
     ]
    }
   ],
   "source": [
    "\n",
    "class PublicCustomer(BaseModel):\n",
    "    id: int\n",
    "    name: str\n",
    "\n",
    "class PrivateCustomer(PublicCustomer):\n",
    "    vat_number: str = Field(validation_alias=AliasPath(\"vat\", \"number\"))\n",
    "    email: str = Field(validation_alias=AliasPath(\"contact\", \"email\"))\n",
    "    phone: str = Field(validation_alias=AliasPath(\"contact\", \"phone\"))\n",
    "\n",
    "\n",
    "\n",
    "class PublicAccount(BaseModel):\n",
    "    account_id: int\n",
    "    customer: PublicCustomer\n",
    "\n",
    "class PrivateAccount(BaseModel):\n",
    "    account_id: int\n",
    "    customer: PrivateCustomer\n",
    "\n",
    "private_customer = PrivateCustomer.model_validate({\"vat\": {\"number\": \"123\"}, \"id\":\"123\", \"name\": \"John\", \"contact\": {\"email\": \"abc@abc.com\", \"phone\": \"123456789\"}})\n",
    "\n",
    "# it doesn't serialize the private fields since the model is PublicAccount\n",
    "# it doesn't ask the value which is private_customer but rather the type of the field which is PublicCustomer\n",
    "print(PublicAccount(account_id=1, customer=private_customer).model_dump())"
   ]
  },
  {
   "cell_type": "markdown",
   "metadata": {},
   "source": [
    "## Migration\n",
    "\n",
    "https://docs.pydantic.dev/dev-v2/migration/\n",
    "\n",
    "code transformation tool -> bump-pydantic (python package)\n",
    "\n",
    "```bash \n",
    "pip install bump-pydantic\n",
    "```"
   ]
  },
  {
   "cell_type": "code",
   "execution_count": 27,
   "metadata": {},
   "outputs": [
    {
     "name": "stdout",
     "output_type": "stream",
     "text": [
      "\u001b[1m                                                                                \u001b[0m\n",
      "\u001b[1m \u001b[0m\u001b[1;33mUsage: \u001b[0m\u001b[1mbump-pydantic [OPTIONS] PATH COMMAND [ARGS]...\u001b[0m\u001b[1m                         \u001b[0m\u001b[1m \u001b[0m\n",
      "\u001b[1m                                                                                \u001b[0m\n",
      " Convert Pydantic from V1 to V2 ♻️                                               \n",
      " \u001b[2mCheck the README for more information: \u001b[0m                                        \n",
      " \u001b[2mhttps://github.com/pydantic/bump-pydantic.\u001b[0m                                     \n",
      "                                                                                \n",
      "\u001b[2m╭─\u001b[0m\u001b[2m Arguments \u001b[0m\u001b[2m─────────────────────────────────────────────────────────────────\u001b[0m\u001b[2m─╮\u001b[0m\n",
      "\u001b[2m│\u001b[0m \u001b[31m*\u001b[0m    path      \u001b[1;33mPATH\u001b[0m  \u001b[2m[default: None]\u001b[0m \u001b[2;31m[required]\u001b[0m                              \u001b[2m│\u001b[0m\n",
      "\u001b[2m╰──────────────────────────────────────────────────────────────────────────────╯\u001b[0m\n",
      "\u001b[2m╭─\u001b[0m\u001b[2m Options \u001b[0m\u001b[2m───────────────────────────────────────────────────────────────────\u001b[0m\u001b[2m─╮\u001b[0m\n",
      "\u001b[2m│\u001b[0m \u001b[1;36m-\u001b[0m\u001b[1;36m-disable\u001b[0m                  \u001b[1;2;33m[\u001b[0m\u001b[1;33mBP001\u001b[0m\u001b[1;2;33m|\u001b[0m\u001b[1;33mBP002\u001b[0m\u001b[1;2;33m|\u001b[0m\u001b[1;33mBP003\u001b[0m\u001b[1;2;33m|\u001b[0m\u001b[1;33mBP00\u001b[0m  Disable a rule.          \u001b[2m│\u001b[0m\n",
      "\u001b[2m│\u001b[0m                            \u001b[1;33m4\u001b[0m\u001b[1;2;33m|\u001b[0m\u001b[1;33mBP005\u001b[0m\u001b[1;2;33m|\u001b[0m\u001b[1;33mBP006\u001b[0m\u001b[1;2;33m|\u001b[0m\u001b[1;33mBP007\u001b[0m\u001b[1;2;33m|\u001b[0m\u001b[1;33mBP0\u001b[0m                           \u001b[2m│\u001b[0m\n",
      "\u001b[2m│\u001b[0m                            \u001b[1;33m08\u001b[0m\u001b[1;2;33m]\u001b[0m\u001b[1;33m                    \u001b[0m                           \u001b[2m│\u001b[0m\n",
      "\u001b[2m│\u001b[0m \u001b[1;36m-\u001b[0m\u001b[1;36m-diff\u001b[0m        \u001b[1;35m-\u001b[0m\u001b[1;35m-no\u001b[0m\u001b[1;35m-diff\u001b[0m    \u001b[1;33m                       \u001b[0m  Show diff instead of     \u001b[2m│\u001b[0m\n",
      "\u001b[2m│\u001b[0m                                                     applying changes.        \u001b[2m│\u001b[0m\n",
      "\u001b[2m│\u001b[0m                                                     \u001b[2m[default: no-diff]      \u001b[0m \u001b[2m│\u001b[0m\n",
      "\u001b[2m│\u001b[0m \u001b[1;36m-\u001b[0m\u001b[1;36m-ignore\u001b[0m                   \u001b[1;33mTEXT                   \u001b[0m  Ignore a path glob       \u001b[2m│\u001b[0m\n",
      "\u001b[2m│\u001b[0m                                                     pattern.                 \u001b[2m│\u001b[0m\n",
      "\u001b[2m│\u001b[0m                                                     \u001b[2m[default: .venv/**]     \u001b[0m \u001b[2m│\u001b[0m\n",
      "\u001b[2m│\u001b[0m \u001b[1;36m-\u001b[0m\u001b[1;36m-log\u001b[0m\u001b[1;36m-file\u001b[0m                 \u001b[1;33mPATH                   \u001b[0m  Log errors to this file. \u001b[2m│\u001b[0m\n",
      "\u001b[2m│\u001b[0m                                                     \u001b[2m[default: log.txt]      \u001b[0m \u001b[2m│\u001b[0m\n",
      "\u001b[2m│\u001b[0m \u001b[1;36m-\u001b[0m\u001b[1;36m-version\u001b[0m                  \u001b[1;33m                       \u001b[0m  Show the version and     \u001b[2m│\u001b[0m\n",
      "\u001b[2m│\u001b[0m                                                     exit.                    \u001b[2m│\u001b[0m\n",
      "\u001b[2m│\u001b[0m \u001b[1;36m-\u001b[0m\u001b[1;36m-help\u001b[0m                     \u001b[1;33m                       \u001b[0m  Show this message and    \u001b[2m│\u001b[0m\n",
      "\u001b[2m│\u001b[0m                                                     exit.                    \u001b[2m│\u001b[0m\n",
      "\u001b[2m╰──────────────────────────────────────────────────────────────────────────────╯\u001b[0m\n",
      "\n"
     ]
    }
   ],
   "source": [
    "! bump-pydantic --help"
   ]
  },
  {
   "cell_type": "markdown",
   "metadata": {},
   "source": [
    "let's try migrating the tweet models"
   ]
  },
  {
   "cell_type": "code",
   "execution_count": 30,
   "metadata": {},
   "outputs": [
    {
     "name": "stdout",
     "output_type": "stream",
     "text": [
      "\u001b[2;36m[08:51:37]\u001b[0m\u001b[2;36m \u001b[0mStart bump-pydantic.                                       \u001b]8;id=669952;file:///home/wo/workspace/my-lab/pydantic/pydantic-v2-demo/.env/lib/python3.11/site-packages/bump_pydantic/main.py\u001b\\\u001b[2mmain.py\u001b[0m\u001b]8;;\u001b\\\u001b[2m:\u001b[0m\u001b]8;id=691629;file:///home/wo/workspace/my-lab/pydantic/pydantic-v2-demo/.env/lib/python3.11/site-packages/bump_pydantic/main.py#60\u001b\\\u001b[2m60\u001b[0m\u001b]8;;\u001b\\\n",
      "\u001b[2;36m          \u001b[0m\u001b[2;36m \u001b[0mFound \u001b[1;36m1\u001b[0m files to process                                   \u001b]8;id=938299;file:///home/wo/workspace/my-lab/pydantic/pydantic-v2-demo/.env/lib/python3.11/site-packages/bump_pydantic/main.py\u001b\\\u001b[2mmain.py\u001b[0m\u001b]8;;\u001b\\\u001b[2m:\u001b[0m\u001b]8;id=903571;file:///home/wo/workspace/my-lab/pydantic/pydantic-v2-demo/.env/lib/python3.11/site-packages/bump_pydantic/main.py#75\u001b\\\u001b[2m75\u001b[0m\u001b]8;;\u001b\\\n",
      "\u001b[2KLooking for Pydantic Models... \u001b[90m━━━━━━━━━━━━━━━━━━━━━━━━━━━━━━━━━━━━\u001b[0m \u001b[35m100%\u001b[0m \u001b[36m0:00:00\u001b[0m\n",
      "\u001b[2KExecuting codemods... \u001b[90m━━━━━━━━━━━━━━━━━━━━━━━━━━━━━━━━━━━━━━━━\u001b[0m \u001b[35m100%\u001b[0m \u001b[36m0:00:00\u001b[0m\n",
      "\u001b[1A\u001b[2K\u001b[2;36m          \u001b[0m\u001b[2;36m \u001b[0mRefactored \u001b[1;36m1\u001b[0m files.                                       \u001b]8;id=656849;file:///home/wo/workspace/my-lab/pydantic/pydantic-v2-demo/.env/lib/python3.11/site-packages/bump_pydantic/main.py\u001b\\\u001b[2mmain.py\u001b[0m\u001b]8;;\u001b\\\u001b[2m:\u001b[0m\u001b]8;id=789155;file:///home/wo/workspace/my-lab/pydantic/pydantic-v2-demo/.env/lib/python3.11/site-packages/bump_pydantic/main.py#144\u001b\\\u001b[2m144\u001b[0m\u001b]8;;\u001b\\\n",
      "\u001b[2;36m          \u001b[0m\u001b[2;36m \u001b[0mRun successfully!                                         \u001b]8;id=163738;file:///home/wo/workspace/my-lab/pydantic/pydantic-v2-demo/.env/lib/python3.11/site-packages/bump_pydantic/main.py\u001b\\\u001b[2mmain.py\u001b[0m\u001b]8;;\u001b\\\u001b[2m:\u001b[0m\u001b]8;id=17448;file:///home/wo/workspace/my-lab/pydantic/pydantic-v2-demo/.env/lib/python3.11/site-packages/bump_pydantic/main.py#152\u001b\\\u001b[2m152\u001b[0m\u001b]8;;\u001b\\\n"
     ]
    }
   ],
   "source": [
    "! bump-pydantic  --log-file tweet_model_migration_log.txt ./tweet_v1.py\n"
   ]
  },
  {
   "cell_type": "code",
   "execution_count": null,
   "metadata": {},
   "outputs": [],
   "source": []
  }
 ],
 "metadata": {
  "kernelspec": {
   "display_name": "Python 3 (ipykernel)",
   "language": "python",
   "name": "python3"
  },
  "language_info": {
   "codemirror_mode": {
    "name": "ipython",
    "version": 3
   },
   "file_extension": ".py",
   "mimetype": "text/x-python",
   "name": "python",
   "nbconvert_exporter": "python",
   "pygments_lexer": "ipython3",
   "version": "3.11.0rc1"
  }
 },
 "nbformat": 4,
 "nbformat_minor": 4
}
